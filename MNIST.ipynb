{
 "cells": [
  {
   "cell_type": "code",
   "execution_count": 52,
   "id": "ef5d08fd",
   "metadata": {},
   "outputs": [],
   "source": [
    "import numpy as np\n",
    "import pandas as pd\n",
    "import matplotlib.pyplot as plt\n",
    "%matplotlib inline"
   ]
  },
  {
   "cell_type": "code",
   "execution_count": 53,
   "id": "a8cc24b8",
   "metadata": {},
   "outputs": [],
   "source": [
    "train = pd.read_csv(\"../stephenim/Downloads/train.csv\")\n",
    "test = pd.read_csv(\"../stephenim/Downloads/test.csv\")\n",
    "# import os\n",
    "# path = os.listdir(\"../stephenim/Downloads\")\n",
    "# print(path)"
   ]
  },
  {
   "cell_type": "code",
   "execution_count": 54,
   "id": "db52269e",
   "metadata": {},
   "outputs": [
    {
     "data": {
      "text/html": [
       "<div>\n",
       "<style scoped>\n",
       "    .dataframe tbody tr th:only-of-type {\n",
       "        vertical-align: middle;\n",
       "    }\n",
       "\n",
       "    .dataframe tbody tr th {\n",
       "        vertical-align: top;\n",
       "    }\n",
       "\n",
       "    .dataframe thead th {\n",
       "        text-align: right;\n",
       "    }\n",
       "</style>\n",
       "<table border=\"1\" class=\"dataframe\">\n",
       "  <thead>\n",
       "    <tr style=\"text-align: right;\">\n",
       "      <th></th>\n",
       "      <th>label</th>\n",
       "      <th>pixel0</th>\n",
       "      <th>pixel1</th>\n",
       "      <th>pixel2</th>\n",
       "      <th>pixel3</th>\n",
       "      <th>pixel4</th>\n",
       "      <th>pixel5</th>\n",
       "      <th>pixel6</th>\n",
       "      <th>pixel7</th>\n",
       "      <th>pixel8</th>\n",
       "      <th>...</th>\n",
       "      <th>pixel774</th>\n",
       "      <th>pixel775</th>\n",
       "      <th>pixel776</th>\n",
       "      <th>pixel777</th>\n",
       "      <th>pixel778</th>\n",
       "      <th>pixel779</th>\n",
       "      <th>pixel780</th>\n",
       "      <th>pixel781</th>\n",
       "      <th>pixel782</th>\n",
       "      <th>pixel783</th>\n",
       "    </tr>\n",
       "  </thead>\n",
       "  <tbody>\n",
       "    <tr>\n",
       "      <th>0</th>\n",
       "      <td>1</td>\n",
       "      <td>0</td>\n",
       "      <td>0</td>\n",
       "      <td>0</td>\n",
       "      <td>0</td>\n",
       "      <td>0</td>\n",
       "      <td>0</td>\n",
       "      <td>0</td>\n",
       "      <td>0</td>\n",
       "      <td>0</td>\n",
       "      <td>...</td>\n",
       "      <td>0</td>\n",
       "      <td>0</td>\n",
       "      <td>0</td>\n",
       "      <td>0</td>\n",
       "      <td>0</td>\n",
       "      <td>0</td>\n",
       "      <td>0</td>\n",
       "      <td>0</td>\n",
       "      <td>0</td>\n",
       "      <td>0</td>\n",
       "    </tr>\n",
       "    <tr>\n",
       "      <th>1</th>\n",
       "      <td>0</td>\n",
       "      <td>0</td>\n",
       "      <td>0</td>\n",
       "      <td>0</td>\n",
       "      <td>0</td>\n",
       "      <td>0</td>\n",
       "      <td>0</td>\n",
       "      <td>0</td>\n",
       "      <td>0</td>\n",
       "      <td>0</td>\n",
       "      <td>...</td>\n",
       "      <td>0</td>\n",
       "      <td>0</td>\n",
       "      <td>0</td>\n",
       "      <td>0</td>\n",
       "      <td>0</td>\n",
       "      <td>0</td>\n",
       "      <td>0</td>\n",
       "      <td>0</td>\n",
       "      <td>0</td>\n",
       "      <td>0</td>\n",
       "    </tr>\n",
       "    <tr>\n",
       "      <th>2</th>\n",
       "      <td>1</td>\n",
       "      <td>0</td>\n",
       "      <td>0</td>\n",
       "      <td>0</td>\n",
       "      <td>0</td>\n",
       "      <td>0</td>\n",
       "      <td>0</td>\n",
       "      <td>0</td>\n",
       "      <td>0</td>\n",
       "      <td>0</td>\n",
       "      <td>...</td>\n",
       "      <td>0</td>\n",
       "      <td>0</td>\n",
       "      <td>0</td>\n",
       "      <td>0</td>\n",
       "      <td>0</td>\n",
       "      <td>0</td>\n",
       "      <td>0</td>\n",
       "      <td>0</td>\n",
       "      <td>0</td>\n",
       "      <td>0</td>\n",
       "    </tr>\n",
       "    <tr>\n",
       "      <th>3</th>\n",
       "      <td>4</td>\n",
       "      <td>0</td>\n",
       "      <td>0</td>\n",
       "      <td>0</td>\n",
       "      <td>0</td>\n",
       "      <td>0</td>\n",
       "      <td>0</td>\n",
       "      <td>0</td>\n",
       "      <td>0</td>\n",
       "      <td>0</td>\n",
       "      <td>...</td>\n",
       "      <td>0</td>\n",
       "      <td>0</td>\n",
       "      <td>0</td>\n",
       "      <td>0</td>\n",
       "      <td>0</td>\n",
       "      <td>0</td>\n",
       "      <td>0</td>\n",
       "      <td>0</td>\n",
       "      <td>0</td>\n",
       "      <td>0</td>\n",
       "    </tr>\n",
       "    <tr>\n",
       "      <th>4</th>\n",
       "      <td>0</td>\n",
       "      <td>0</td>\n",
       "      <td>0</td>\n",
       "      <td>0</td>\n",
       "      <td>0</td>\n",
       "      <td>0</td>\n",
       "      <td>0</td>\n",
       "      <td>0</td>\n",
       "      <td>0</td>\n",
       "      <td>0</td>\n",
       "      <td>...</td>\n",
       "      <td>0</td>\n",
       "      <td>0</td>\n",
       "      <td>0</td>\n",
       "      <td>0</td>\n",
       "      <td>0</td>\n",
       "      <td>0</td>\n",
       "      <td>0</td>\n",
       "      <td>0</td>\n",
       "      <td>0</td>\n",
       "      <td>0</td>\n",
       "    </tr>\n",
       "  </tbody>\n",
       "</table>\n",
       "<p>5 rows × 785 columns</p>\n",
       "</div>"
      ],
      "text/plain": [
       "   label  pixel0  pixel1  pixel2  pixel3  pixel4  pixel5  pixel6  pixel7  \\\n",
       "0      1       0       0       0       0       0       0       0       0   \n",
       "1      0       0       0       0       0       0       0       0       0   \n",
       "2      1       0       0       0       0       0       0       0       0   \n",
       "3      4       0       0       0       0       0       0       0       0   \n",
       "4      0       0       0       0       0       0       0       0       0   \n",
       "\n",
       "   pixel8  ...  pixel774  pixel775  pixel776  pixel777  pixel778  pixel779  \\\n",
       "0       0  ...         0         0         0         0         0         0   \n",
       "1       0  ...         0         0         0         0         0         0   \n",
       "2       0  ...         0         0         0         0         0         0   \n",
       "3       0  ...         0         0         0         0         0         0   \n",
       "4       0  ...         0         0         0         0         0         0   \n",
       "\n",
       "   pixel780  pixel781  pixel782  pixel783  \n",
       "0         0         0         0         0  \n",
       "1         0         0         0         0  \n",
       "2         0         0         0         0  \n",
       "3         0         0         0         0  \n",
       "4         0         0         0         0  \n",
       "\n",
       "[5 rows x 785 columns]"
      ]
     },
     "execution_count": 54,
     "metadata": {},
     "output_type": "execute_result"
    }
   ],
   "source": [
    "train.head()"
   ]
  },
  {
   "cell_type": "code",
   "execution_count": 55,
   "id": "74a3e558",
   "metadata": {},
   "outputs": [
    {
     "data": {
      "text/html": [
       "<div>\n",
       "<style scoped>\n",
       "    .dataframe tbody tr th:only-of-type {\n",
       "        vertical-align: middle;\n",
       "    }\n",
       "\n",
       "    .dataframe tbody tr th {\n",
       "        vertical-align: top;\n",
       "    }\n",
       "\n",
       "    .dataframe thead th {\n",
       "        text-align: right;\n",
       "    }\n",
       "</style>\n",
       "<table border=\"1\" class=\"dataframe\">\n",
       "  <thead>\n",
       "    <tr style=\"text-align: right;\">\n",
       "      <th></th>\n",
       "      <th>pixel0</th>\n",
       "      <th>pixel1</th>\n",
       "      <th>pixel2</th>\n",
       "      <th>pixel3</th>\n",
       "      <th>pixel4</th>\n",
       "      <th>pixel5</th>\n",
       "      <th>pixel6</th>\n",
       "      <th>pixel7</th>\n",
       "      <th>pixel8</th>\n",
       "      <th>pixel9</th>\n",
       "      <th>...</th>\n",
       "      <th>pixel774</th>\n",
       "      <th>pixel775</th>\n",
       "      <th>pixel776</th>\n",
       "      <th>pixel777</th>\n",
       "      <th>pixel778</th>\n",
       "      <th>pixel779</th>\n",
       "      <th>pixel780</th>\n",
       "      <th>pixel781</th>\n",
       "      <th>pixel782</th>\n",
       "      <th>pixel783</th>\n",
       "    </tr>\n",
       "  </thead>\n",
       "  <tbody>\n",
       "    <tr>\n",
       "      <th>0</th>\n",
       "      <td>0</td>\n",
       "      <td>0</td>\n",
       "      <td>0</td>\n",
       "      <td>0</td>\n",
       "      <td>0</td>\n",
       "      <td>0</td>\n",
       "      <td>0</td>\n",
       "      <td>0</td>\n",
       "      <td>0</td>\n",
       "      <td>0</td>\n",
       "      <td>...</td>\n",
       "      <td>0</td>\n",
       "      <td>0</td>\n",
       "      <td>0</td>\n",
       "      <td>0</td>\n",
       "      <td>0</td>\n",
       "      <td>0</td>\n",
       "      <td>0</td>\n",
       "      <td>0</td>\n",
       "      <td>0</td>\n",
       "      <td>0</td>\n",
       "    </tr>\n",
       "    <tr>\n",
       "      <th>1</th>\n",
       "      <td>0</td>\n",
       "      <td>0</td>\n",
       "      <td>0</td>\n",
       "      <td>0</td>\n",
       "      <td>0</td>\n",
       "      <td>0</td>\n",
       "      <td>0</td>\n",
       "      <td>0</td>\n",
       "      <td>0</td>\n",
       "      <td>0</td>\n",
       "      <td>...</td>\n",
       "      <td>0</td>\n",
       "      <td>0</td>\n",
       "      <td>0</td>\n",
       "      <td>0</td>\n",
       "      <td>0</td>\n",
       "      <td>0</td>\n",
       "      <td>0</td>\n",
       "      <td>0</td>\n",
       "      <td>0</td>\n",
       "      <td>0</td>\n",
       "    </tr>\n",
       "    <tr>\n",
       "      <th>2</th>\n",
       "      <td>0</td>\n",
       "      <td>0</td>\n",
       "      <td>0</td>\n",
       "      <td>0</td>\n",
       "      <td>0</td>\n",
       "      <td>0</td>\n",
       "      <td>0</td>\n",
       "      <td>0</td>\n",
       "      <td>0</td>\n",
       "      <td>0</td>\n",
       "      <td>...</td>\n",
       "      <td>0</td>\n",
       "      <td>0</td>\n",
       "      <td>0</td>\n",
       "      <td>0</td>\n",
       "      <td>0</td>\n",
       "      <td>0</td>\n",
       "      <td>0</td>\n",
       "      <td>0</td>\n",
       "      <td>0</td>\n",
       "      <td>0</td>\n",
       "    </tr>\n",
       "    <tr>\n",
       "      <th>3</th>\n",
       "      <td>0</td>\n",
       "      <td>0</td>\n",
       "      <td>0</td>\n",
       "      <td>0</td>\n",
       "      <td>0</td>\n",
       "      <td>0</td>\n",
       "      <td>0</td>\n",
       "      <td>0</td>\n",
       "      <td>0</td>\n",
       "      <td>0</td>\n",
       "      <td>...</td>\n",
       "      <td>0</td>\n",
       "      <td>0</td>\n",
       "      <td>0</td>\n",
       "      <td>0</td>\n",
       "      <td>0</td>\n",
       "      <td>0</td>\n",
       "      <td>0</td>\n",
       "      <td>0</td>\n",
       "      <td>0</td>\n",
       "      <td>0</td>\n",
       "    </tr>\n",
       "    <tr>\n",
       "      <th>4</th>\n",
       "      <td>0</td>\n",
       "      <td>0</td>\n",
       "      <td>0</td>\n",
       "      <td>0</td>\n",
       "      <td>0</td>\n",
       "      <td>0</td>\n",
       "      <td>0</td>\n",
       "      <td>0</td>\n",
       "      <td>0</td>\n",
       "      <td>0</td>\n",
       "      <td>...</td>\n",
       "      <td>0</td>\n",
       "      <td>0</td>\n",
       "      <td>0</td>\n",
       "      <td>0</td>\n",
       "      <td>0</td>\n",
       "      <td>0</td>\n",
       "      <td>0</td>\n",
       "      <td>0</td>\n",
       "      <td>0</td>\n",
       "      <td>0</td>\n",
       "    </tr>\n",
       "  </tbody>\n",
       "</table>\n",
       "<p>5 rows × 784 columns</p>\n",
       "</div>"
      ],
      "text/plain": [
       "   pixel0  pixel1  pixel2  pixel3  pixel4  pixel5  pixel6  pixel7  pixel8  \\\n",
       "0       0       0       0       0       0       0       0       0       0   \n",
       "1       0       0       0       0       0       0       0       0       0   \n",
       "2       0       0       0       0       0       0       0       0       0   \n",
       "3       0       0       0       0       0       0       0       0       0   \n",
       "4       0       0       0       0       0       0       0       0       0   \n",
       "\n",
       "   pixel9  ...  pixel774  pixel775  pixel776  pixel777  pixel778  pixel779  \\\n",
       "0       0  ...         0         0         0         0         0         0   \n",
       "1       0  ...         0         0         0         0         0         0   \n",
       "2       0  ...         0         0         0         0         0         0   \n",
       "3       0  ...         0         0         0         0         0         0   \n",
       "4       0  ...         0         0         0         0         0         0   \n",
       "\n",
       "   pixel780  pixel781  pixel782  pixel783  \n",
       "0         0         0         0         0  \n",
       "1         0         0         0         0  \n",
       "2         0         0         0         0  \n",
       "3         0         0         0         0  \n",
       "4         0         0         0         0  \n",
       "\n",
       "[5 rows x 784 columns]"
      ]
     },
     "execution_count": 55,
     "metadata": {},
     "output_type": "execute_result"
    }
   ],
   "source": [
    "test.head()"
   ]
  },
  {
   "cell_type": "code",
   "execution_count": 56,
   "id": "b6d2b9d8",
   "metadata": {},
   "outputs": [],
   "source": [
    "data = np.array(train)\n",
    "m, n = data.shape\n",
    "\n",
    "data_dev = data[0:1000].T\n",
    "Y_dev = data_dev[0]\n",
    "X_dev = data_dev[1:n]\n",
    "X_dev = X_dev / 255.\n",
    "\n",
    "data_train = data[1000:m].T\n",
    "Y_train = data_train[0]\n",
    "X_train = data_train[1:n]\n",
    "X_train = X_train / 255.\n",
    "_,m_train = X_train.shape"
   ]
  },
  {
   "cell_type": "code",
   "execution_count": 57,
   "id": "73527e22",
   "metadata": {},
   "outputs": [],
   "source": [
    "def relu(x):\n",
    "    x[x<0]=0\n",
    "    return x"
   ]
  },
  {
   "cell_type": "code",
   "execution_count": 58,
   "id": "98311805",
   "metadata": {},
   "outputs": [
    {
     "data": {
      "text/plain": [
       "array([1, 5, 1, ..., 7, 6, 9])"
      ]
     },
     "execution_count": 58,
     "metadata": {},
     "output_type": "execute_result"
    }
   ],
   "source": [
    "Y_train"
   ]
  },
  {
   "cell_type": "code",
   "execution_count": 59,
   "id": "fb4ccbae",
   "metadata": {},
   "outputs": [],
   "source": [
    "def init_params():\n",
    "    W1 = np.random.normal(size=(10, 784)) * np.sqrt(1./(784))\n",
    "    b1 = np.random.normal(size=(10, 1)) * np.sqrt(1./10)\n",
    "    W2 = np.random.normal(size=(10, 10)) * np.sqrt(1./20)\n",
    "    b2 = np.random.normal(size=(10, 1)) * np.sqrt(1./(784))\n",
    "    return W1, b1, W2, b2\n",
    "    return W1, b1, W2, b2"
   ]
  },
  {
   "cell_type": "code",
   "execution_count": 60,
   "id": "3a04db02",
   "metadata": {},
   "outputs": [],
   "source": [
    "def softmax(x):\n",
    "    result = np.exp(x) / sum(np.exp(x))\n",
    "    return result"
   ]
  },
  {
   "cell_type": "code",
   "execution_count": 61,
   "id": "d066ebc2",
   "metadata": {},
   "outputs": [],
   "source": [
    "def forward_prop(W1, b1, W2, b2, X):\n",
    "    Z1 = W1.dot(X) + b1\n",
    "    A1 = relu(Z1)\n",
    "    Z2 = W2.dot(A1) + b2\n",
    "    A2 = softmax(Z2)\n",
    "    return Z1, A1, Z2, A2"
   ]
  },
  {
   "cell_type": "code",
   "execution_count": 62,
   "id": "26640df2",
   "metadata": {},
   "outputs": [],
   "source": [
    "def relu_pos(x):\n",
    "    return x > 0"
   ]
  },
  {
   "cell_type": "code",
   "execution_count": 63,
   "id": "43441366",
   "metadata": {},
   "outputs": [],
   "source": [
    "def one_hot(Y):\n",
    "    one_hot_Y = np.zeros((Y.size, Y.max() + 1))\n",
    "    one_hot_Y[np.arange(Y.size), Y] = 1\n",
    "    one_hot_Y = one_hot_Y.T\n",
    "    return one_hot_Y"
   ]
  },
  {
   "cell_type": "code",
   "execution_count": 64,
   "id": "77838901",
   "metadata": {},
   "outputs": [],
   "source": [
    "\n",
    "def backward_prop(Z1, A1, Z2, A2, W1, W2, X, Y):\n",
    "    one_hot_Y = one_hot(Y)\n",
    "    dZ2 = A2 - one_hot_Y\n",
    "    dW2 = 1 / m * dZ2.dot(A1.T)\n",
    "    db2 = 1 / m * np.sum(dZ2)\n",
    "    dZ1 = W2.T.dot(dZ2) * relu_pos(Z1)\n",
    "    dW1 = 1 / m * dZ1.dot(X.T)\n",
    "    db1 = 1 / m * np.sum(dZ1)\n",
    "    return dW1, db1, dW2, db2"
   ]
  },
  {
   "cell_type": "code",
   "execution_count": 65,
   "id": "c0b57518",
   "metadata": {},
   "outputs": [],
   "source": [
    "def update_params(W1, b1, W2, b2, dW1, db1, dW2, db2, alpha):\n",
    "    W1 = W1 - alpha * dW1\n",
    "    b1 = b1 - alpha * db1    \n",
    "    W2 = W2 - alpha * dW2  \n",
    "    b2 = b2 - alpha * db2    \n",
    "    return W1, b1, W2, b2"
   ]
  },
  {
   "cell_type": "code",
   "execution_count": 66,
   "id": "1bd6d317",
   "metadata": {},
   "outputs": [],
   "source": [
    "def get_predictions(A2):\n",
    "    return np.argmax(A2, 0)\n",
    "\n",
    "def get_accuracy(predictions, Y):\n",
    "    print(predictions, Y)\n",
    "    return np.sum(predictions == Y) / Y.size"
   ]
  },
  {
   "cell_type": "code",
   "execution_count": 67,
   "id": "b0634303",
   "metadata": {},
   "outputs": [],
   "source": [
    "def gradient_descent(X, Y, alpha, iterations):\n",
    "    W1, b1, W2, b2 = init_params()\n",
    "    for i in range(iterations):\n",
    "        Z1, A1, Z2, A2 = forward_prop(W1, b1, W2, b2, X)\n",
    "        dW1, db1, dW2, db2 = backward_prop(Z1, A1, Z2, A2, W1, W2, X, Y)\n",
    "        W1, b1, W2, b2 = update_params(W1, b1, W2, b2, dW1, db1, dW2, db2, alpha)\n",
    "        if i % 10 == 0:\n",
    "            print(\"Iteration: \", i)\n",
    "            predictions = get_predictions(A2)\n",
    "            print(get_accuracy(predictions, Y))\n",
    "    return W1, b1, W2, b2"
   ]
  },
  {
   "cell_type": "code",
   "execution_count": 68,
   "id": "00de83d4",
   "metadata": {},
   "outputs": [
    {
     "name": "stdout",
     "output_type": "stream",
     "text": [
      "Iteration:  0\n",
      "[0 8 0 ... 8 0 8] [1 5 1 ... 7 6 9]\n",
      "0.11460975609756098\n",
      "Iteration:  10\n",
      "[8 0 8 ... 0 0 8] [1 5 1 ... 7 6 9]\n",
      "0.17285365853658535\n",
      "Iteration:  20\n",
      "[1 0 1 ... 8 0 8] [1 5 1 ... 7 6 9]\n",
      "0.2769268292682927\n",
      "Iteration:  30\n",
      "[1 0 1 ... 8 0 8] [1 5 1 ... 7 6 9]\n",
      "0.3829268292682927\n",
      "Iteration:  40\n",
      "[1 2 1 ... 7 6 8] [1 5 1 ... 7 6 9]\n",
      "0.5141707317073171\n",
      "Iteration:  50\n",
      "[1 2 1 ... 7 6 7] [1 5 1 ... 7 6 9]\n",
      "0.6074634146341463\n",
      "Iteration:  60\n",
      "[1 2 1 ... 7 6 7] [1 5 1 ... 7 6 9]\n",
      "0.6962926829268292\n",
      "Iteration:  70\n",
      "[1 4 1 ... 7 6 9] [1 5 1 ... 7 6 9]\n",
      "0.7431463414634146\n",
      "Iteration:  80\n",
      "[1 4 1 ... 7 6 9] [1 5 1 ... 7 6 9]\n",
      "0.769390243902439\n",
      "Iteration:  90\n",
      "[1 4 1 ... 7 6 9] [1 5 1 ... 7 6 9]\n",
      "0.790609756097561\n",
      "Iteration:  100\n",
      "[1 4 1 ... 7 6 9] [1 5 1 ... 7 6 9]\n",
      "0.8077317073170732\n",
      "Iteration:  110\n",
      "[1 4 1 ... 7 6 9] [1 5 1 ... 7 6 9]\n",
      "0.821170731707317\n",
      "Iteration:  120\n",
      "[1 4 1 ... 7 6 9] [1 5 1 ... 7 6 9]\n",
      "0.8306585365853658\n",
      "Iteration:  130\n",
      "[1 4 1 ... 7 6 9] [1 5 1 ... 7 6 9]\n",
      "0.8388292682926829\n",
      "Iteration:  140\n",
      "[1 4 1 ... 7 6 9] [1 5 1 ... 7 6 9]\n",
      "0.8449024390243902\n",
      "Iteration:  150\n",
      "[1 8 1 ... 7 6 9] [1 5 1 ... 7 6 9]\n",
      "0.8513170731707317\n",
      "Iteration:  160\n",
      "[1 8 1 ... 7 6 9] [1 5 1 ... 7 6 9]\n",
      "0.8557073170731707\n",
      "Iteration:  170\n",
      "[1 8 1 ... 7 6 9] [1 5 1 ... 7 6 9]\n",
      "0.8593414634146341\n",
      "Iteration:  180\n",
      "[1 8 1 ... 7 6 9] [1 5 1 ... 7 6 9]\n",
      "0.8635121951219512\n",
      "Iteration:  190\n",
      "[1 8 1 ... 7 6 9] [1 5 1 ... 7 6 9]\n",
      "0.8664634146341463\n",
      "Iteration:  200\n",
      "[1 8 1 ... 7 6 9] [1 5 1 ... 7 6 9]\n",
      "0.869390243902439\n",
      "Iteration:  210\n",
      "[1 8 1 ... 7 6 9] [1 5 1 ... 7 6 9]\n",
      "0.8716341463414634\n",
      "Iteration:  220\n",
      "[1 8 1 ... 7 6 9] [1 5 1 ... 7 6 9]\n",
      "0.8737560975609756\n",
      "Iteration:  230\n",
      "[1 8 1 ... 7 6 9] [1 5 1 ... 7 6 9]\n",
      "0.8760731707317073\n",
      "Iteration:  240\n",
      "[1 8 1 ... 7 6 9] [1 5 1 ... 7 6 9]\n",
      "0.8780731707317073\n",
      "Iteration:  250\n",
      "[1 8 1 ... 7 6 9] [1 5 1 ... 7 6 9]\n",
      "0.8798048780487805\n",
      "Iteration:  260\n",
      "[1 8 1 ... 7 6 9] [1 5 1 ... 7 6 9]\n",
      "0.8810975609756098\n",
      "Iteration:  270\n",
      "[1 8 1 ... 7 6 9] [1 5 1 ... 7 6 9]\n",
      "0.8826341463414634\n",
      "Iteration:  280\n",
      "[1 8 1 ... 7 6 9] [1 5 1 ... 7 6 9]\n",
      "0.8842439024390244\n",
      "Iteration:  290\n",
      "[1 8 1 ... 7 6 9] [1 5 1 ... 7 6 9]\n",
      "0.8856829268292683\n",
      "Iteration:  300\n",
      "[1 8 1 ... 7 6 9] [1 5 1 ... 7 6 9]\n",
      "0.886609756097561\n",
      "Iteration:  310\n",
      "[1 8 1 ... 7 6 9] [1 5 1 ... 7 6 9]\n",
      "0.8877560975609756\n",
      "Iteration:  320\n",
      "[1 8 1 ... 7 6 9] [1 5 1 ... 7 6 9]\n",
      "0.8885121951219512\n",
      "Iteration:  330\n",
      "[1 8 1 ... 7 6 9] [1 5 1 ... 7 6 9]\n",
      "0.8891951219512195\n",
      "Iteration:  340\n",
      "[1 8 1 ... 7 6 9] [1 5 1 ... 7 6 9]\n",
      "0.8902926829268293\n",
      "Iteration:  350\n",
      "[1 8 1 ... 7 6 9] [1 5 1 ... 7 6 9]\n",
      "0.8912926829268293\n",
      "Iteration:  360\n",
      "[1 8 1 ... 7 6 9] [1 5 1 ... 7 6 9]\n",
      "0.8919024390243903\n",
      "Iteration:  370\n",
      "[1 8 1 ... 7 6 9] [1 5 1 ... 7 6 9]\n",
      "0.8922926829268293\n",
      "Iteration:  380\n",
      "[1 8 1 ... 7 6 9] [1 5 1 ... 7 6 9]\n",
      "0.8928780487804878\n",
      "Iteration:  390\n",
      "[1 8 1 ... 7 6 9] [1 5 1 ... 7 6 9]\n",
      "0.8936585365853659\n",
      "Iteration:  400\n",
      "[1 8 1 ... 7 6 9] [1 5 1 ... 7 6 9]\n",
      "0.8944390243902439\n",
      "Iteration:  410\n",
      "[1 8 1 ... 7 6 9] [1 5 1 ... 7 6 9]\n",
      "0.895219512195122\n",
      "Iteration:  420\n",
      "[1 8 1 ... 7 6 9] [1 5 1 ... 7 6 9]\n",
      "0.8960487804878049\n",
      "Iteration:  430\n",
      "[1 8 1 ... 7 6 9] [1 5 1 ... 7 6 9]\n",
      "0.897\n",
      "Iteration:  440\n",
      "[1 8 1 ... 7 6 9] [1 5 1 ... 7 6 9]\n",
      "0.8975365853658537\n",
      "Iteration:  450\n",
      "[1 8 1 ... 7 6 9] [1 5 1 ... 7 6 9]\n",
      "0.8981707317073171\n",
      "Iteration:  460\n",
      "[1 8 1 ... 7 6 9] [1 5 1 ... 7 6 9]\n",
      "0.8988780487804878\n",
      "Iteration:  470\n",
      "[1 8 1 ... 7 6 9] [1 5 1 ... 7 6 9]\n",
      "0.8992926829268293\n",
      "Iteration:  480\n",
      "[1 8 1 ... 7 6 9] [1 5 1 ... 7 6 9]\n",
      "0.8999024390243903\n",
      "Iteration:  490\n",
      "[1 8 1 ... 7 6 9] [1 5 1 ... 7 6 9]\n",
      "0.9003414634146342\n"
     ]
    }
   ],
   "source": [
    "W1, b1, W2, b2 = gradient_descent(X_train, Y_train, 0.10, 500)"
   ]
  },
  {
   "cell_type": "code",
   "execution_count": 69,
   "id": "9a16cfe5",
   "metadata": {},
   "outputs": [],
   "source": [
    "def make_predictions(X, W1, b1, W2, b2):\n",
    "    _, _, _, A2 = forward_prop(W1, b1, W2, b2, X)\n",
    "    predictions = get_predictions(A2)\n",
    "    return predictions\n",
    "\n",
    "def test_prediction(index, W1, b1, W2, b2):\n",
    "    current_image = X_train[:, index, None]\n",
    "    prediction = make_predictions(X_train[:, index, None], W1, b1, W2, b2)\n",
    "    label = Y_train[index]\n",
    "    print(\"Prediction: \", prediction)\n",
    "    print(\"Label: \", label)\n",
    "    \n",
    "    current_image = current_image.reshape((28, 28)) * 255\n",
    "    plt.gray()\n",
    "    plt.imshow(current_image, interpolation='nearest')\n",
    "    plt.show()"
   ]
  },
  {
   "cell_type": "code",
   "execution_count": 70,
   "id": "4e3e2d9b",
   "metadata": {},
   "outputs": [
    {
     "name": "stdout",
     "output_type": "stream",
     "text": [
      "Prediction:  [1]\n",
      "Label:  1\n"
     ]
    },
    {
     "data": {
      "image/png": "[encoded data removed]",
      "text/plain": [
       "<Figure size 432x288 with 1 Axes>"
      ]
     },
     "metadata": {
      "needs_background": "light"
     },
     "output_type": "display_data"
    },
    {
     "name": "stdout",
     "output_type": "stream",
     "text": [
      "Prediction:  [8]\n",
      "Label:  5\n"
     ]
    },
    {
     "data": {
      "image/png": "[encoded data removed]",
      "text/plain": [
       "<Figure size 432x288 with 1 Axes>"
      ]
     },
     "metadata": {
      "needs_background": "light"
     },
     "output_type": "display_data"
    },
    {
     "name": "stdout",
     "output_type": "stream",
     "text": [
      "Prediction:  [1]\n",
      "Label:  1\n"
     ]
    },
    {
     "data": {
      "image/png": "[encoded data removed]",
      "text/plain": [
       "<Figure size 432x288 with 1 Axes>"
      ]
     },
     "metadata": {
      "needs_background": "light"
     },
     "output_type": "display_data"
    },
    {
     "name": "stdout",
     "output_type": "stream",
     "text": [
      "Prediction:  [7]\n",
      "Label:  7\n"
     ]
    },
    {
     "data": {
      "image/png": "[encoded data removed]",
      "text/plain": [
       "<Figure size 432x288 with 1 Axes>"
      ]
     },
     "metadata": {
      "needs_background": "light"
     },
     "output_type": "display_data"
    }
   ],
   "source": [
    "test_prediction(0, W1, b1, W2, b2)\n",
    "test_prediction(1, W1, b1, W2, b2)\n",
    "test_prediction(2, W1, b1, W2, b2)\n",
    "test_prediction(3, W1, b1, W2, b2)"
   ]
  },
  {
   "cell_type": "code",
   "execution_count": 71,
   "id": "f858b6b1",
   "metadata": {},
   "outputs": [
    {
     "name": "stdout",
     "output_type": "stream",
     "text": [
      "Prediction:  [3]\n",
      "Label:  3\n"
     ]
    },
    {
     "data": {
      "image/png": "[encoded data removed]",
      "text/plain": [
       "<Figure size 432x288 with 1 Axes>"
      ]
     },
     "metadata": {
      "needs_background": "light"
     },
     "output_type": "display_data"
    },
    {
     "name": "stdout",
     "output_type": "stream",
     "text": [
      "Prediction:  [2]\n",
      "Label:  2\n"
     ]
    },
    {
     "data": {
      "image/png": "[encoded data removed]",
      "text/plain": [
       "<Figure size 432x288 with 1 Axes>"
      ]
     },
     "metadata": {
      "needs_background": "light"
     },
     "output_type": "display_data"
    },
    {
     "name": "stdout",
     "output_type": "stream",
     "text": [
      "Prediction:  [6]\n",
      "Label:  6\n"
     ]
    },
    {
     "data": {
      "image/png": "[encoded data removed]",
      "text/plain": [
       "<Figure size 432x288 with 1 Axes>"
      ]
     },
     "metadata": {
      "needs_background": "light"
     },
     "output_type": "display_data"
    },
    {
     "name": "stdout",
     "output_type": "stream",
     "text": [
      "Prediction:  [4]\n",
      "Label:  4\n"
     ]
    },
    {
     "data": {
      "image/png": "[encoded data removed]",
      "text/plain": [
       "<Figure size 432x288 with 1 Axes>"
      ]
     },
     "metadata": {
      "needs_background": "light"
     },
     "output_type": "display_data"
    }
   ],
   "source": [
    "test_prediction(72, W1, b1, W2, b2)\n",
    "test_prediction(63, W1, b1, W2, b2)\n",
    "test_prediction(52, W1, b1, W2, b2)\n",
    "test_prediction(14, W1, b1, W2, b2)"
   ]
  },
  {
   "cell_type": "code",
   "execution_count": 72,
   "id": "db1fb2da",
   "metadata": {},
   "outputs": [
    {
     "name": "stdout",
     "output_type": "stream",
     "text": [
      "[1 0 1 2 0 0 7 3 5 3 8 9 1 3 3 1 8 0 7 6 8 6 2 0 2 3 6 9 9 7 8 9 4 9 6 1 3\n",
      " 1 1 4 3 1 4 9 2 6 5 7 7 4 7 5 1 9 0 2 2 3 9 1 6 8 8 0 6 3 4 8 1 0 3 9 6 3\n",
      " 6 4 7 1 4 1 5 4 8 9 2 1 9 8 9 4 5 6 4 6 3 7 1 2 0 5 9 2 7 7 4 8 8 5 0 6 0\n",
      " 0 2 9 0 4 7 7 1 5 7 9 4 6 1 6 7 6 5 0 4 9 2 8 1 1 7 3 7 2 1 0 3 4 5 4 0 5\n",
      " 4 5 3 5 1 0 8 3 7 0 9 6 6 9 5 9 6 9 8 5 4 2 4 8 7 4 5 8 8 8 2 6 9 3 1 0 4\n",
      " 1 5 9 0 6 2 5 7 0 6 0 0 5 3 2 0 0 6 0 0 4 7 2 7 1 9 9 3 9 8 4 6 5 1 3 8 1\n",
      " 8 7 1 3 7 6 3 6 3 6 3 2 3 6 2 7 9 2 2 2 7 5 4 8 8 2 0 1 4 9 6 3 7 1 1 1 4\n",
      " 7 0 2 9 2 0 5 6 0 5 9 6 2 0 0 7 2 0 4 2 6 9 1 6 9 3 0 0 2 0 6 8 4 0 7 2 1\n",
      " 9 5 2 4 8 5 2 9 7 9 2 9 7 4 9 3 2 2 3 6 3 6 8 8 3 7 0 9 2 7 9 0 5 4 5 8 4\n",
      " 3 3 1 7 8 9 7 6 2 1 7 0 5 6 0 3 9 5 4 6 2 2 2 9 0 7 7 2 2 6 3 4 8 0 5 9 0\n",
      " 2 1 9 0 6 0 4 5 4 3 1 5 4 2 9 5 7 3 1 5 4 5 3 7 3 8 6 4 4 6 1 1 4 0 0 5 8\n",
      " 6 7 4 2 8 0 2 5 4 8 3 0 6 4 8 6 4 1 8 1 5 4 7 4 3 2 0 6 0 7 9 2 9 8 9 6 3\n",
      " 2 4 4 6 4 8 4 1 7 5 8 4 5 9 3 7 3 8 2 2 7 2 8 9 1 9 3 6 0 2 2 9 1 2 7 2 1\n",
      " 3 4 9 1 8 0 2 2 3 4 1 3 9 4 1 4 1 5 0 6 9 0 5 7 6 8 2 0 7 3 5 8 2 8 2 3 8\n",
      " 5 8 7 7 1 2 4 3 5 1 8 1 9 4 6 5 8 9 2 3 0 3 1 4 0 5 1 2 9 2 0 1 6 8 0 4 9\n",
      " 0 0 5 9 8 3 5 9 4 4 3 9 2 3 5 6 5 2 4 2 4 2 9 1 2 5 3 7 6 1 0 7 5 4 5 1 6\n",
      " 9 7 1 6 3 3 1 2 2 0 5 0 6 3 3 6 1 7 3 8 1 7 9 3 9 2 8 3 7 4 3 2 3 6 4 0 1\n",
      " 8 6 9 2 1 6 0 2 8 0 8 8 0 1 2 7 1 4 8 1 4 4 5 1 8 7 7 9 7 0 6 4 4 5 6 2 5\n",
      " 7 4 7 2 3 0 8 4 8 0 0 9 7 4 9 5 2 1 6 5 9 1 1 9 4 7 8 6 4 7 5 3 1 6 4 3 7\n",
      " 4 1 8 3 5 1 7 1 1 8 6 4 5 9 3 1 2 8 9 0 9 2 2 3 3 0 3 0 2 0 3 3 8 3 5 7 0\n",
      " 5 9 0 5 9 1 5 1 1 2 6 5 5 4 5 1 6 0 2 2 8 0 7 1 0 8 5 6 3 2 9 4 3 6 0 2 6\n",
      " 1 5 9 3 0 8 0 6 2 7 6 6 6 8 6 7 8 2 0 6 0 8 8 4 3 6 7 4 3 9 7 7 0 4 7 2 2\n",
      " 5 2 7 0 4 0 5 5 8 7 7 9 1 4 0 1 1 2 3 6 2 0 6 6 1 9 4 5 2 7 7 8 9 5 8 3 5\n",
      " 5 6 2 0 9 7 1 8 2 6 9 5 4 9 4 1 3 9 4 0 7 7 3 7 6 6 8 8 2 7 0 4 3 2 7 0 8\n",
      " 4 7 4 0 6 9 8 6 0 8 6 4 5 2 7 3 6 2 2 9 2 7 4 8 7 2 9 5 1 4 9 0 4 4 2 5 6\n",
      " 1 2 2 8 4 5 7 8 0 6 8 9 1 7 7 2 6 3 9 9 1 0 9 2 5 4 4 9 2 6 7 2 8 3 3 2 7\n",
      " 0 4 7 0 7 7 8 1 7 3 7 8 0 1 5 2 9 7 6 2 2 6 9 0 6 8 1 9 6 3 3 0 0 2 5 9 6\n",
      " 4] [1 0 1 4 0 0 7 3 5 3 8 9 1 3 3 1 2 0 7 5 8 6 2 0 2 3 6 9 9 7 8 9 4 9 2 1 3\n",
      " 1 1 4 9 1 4 4 2 6 3 7 7 4 7 5 1 9 0 2 2 3 9 1 1 1 5 0 6 3 4 8 1 0 3 9 6 2\n",
      " 6 4 7 1 4 1 5 4 8 9 2 9 9 8 9 6 3 6 4 6 2 9 1 2 0 5 9 2 7 7 2 8 8 5 0 6 0\n",
      " 0 2 9 0 4 7 7 1 5 7 9 4 6 1 5 7 6 5 0 4 8 7 6 1 8 7 3 7 3 1 0 3 4 5 4 0 5\n",
      " 4 0 3 5 1 0 8 3 7 0 9 6 6 9 5 4 6 9 3 5 4 2 4 8 7 7 5 8 8 8 2 6 9 3 1 0 4\n",
      " 1 5 9 0 6 2 1 3 0 6 0 0 8 3 2 0 0 6 0 0 4 7 2 7 1 9 9 3 9 8 4 6 6 5 3 8 1\n",
      " 8 7 1 3 7 6 3 6 3 6 3 2 3 2 2 7 9 2 3 2 7 5 5 8 8 2 0 1 4 0 6 3 7 1 1 1 4\n",
      " 7 0 2 9 2 0 5 6 0 8 9 6 2 0 0 7 2 0 4 2 0 9 1 6 9 3 0 0 2 0 6 8 4 0 7 2 1\n",
      " 9 5 2 4 8 5 2 9 7 9 2 9 7 4 9 3 2 7 3 6 3 6 8 8 3 7 0 9 2 7 9 0 5 4 5 8 4\n",
      " 3 3 1 7 8 9 7 6 2 1 7 0 5 6 5 2 9 5 4 6 2 2 2 9 0 7 7 2 2 6 3 4 2 0 5 9 6\n",
      " 2 1 9 0 6 0 4 8 4 3 1 5 4 2 9 5 7 3 1 5 4 5 3 7 3 8 6 2 4 6 1 1 4 0 0 5 8\n",
      " 6 7 4 2 8 0 2 5 4 8 3 0 6 4 8 6 4 1 8 1 5 4 9 4 3 2 0 5 0 7 9 2 9 8 9 6 5\n",
      " 2 4 4 6 4 8 4 1 7 5 8 9 5 9 3 2 5 8 2 2 7 2 8 4 1 9 3 6 0 2 2 9 1 2 7 2 1\n",
      " 3 4 9 1 8 0 2 2 3 4 1 3 7 4 1 4 1 5 9 6 9 0 5 7 6 8 2 0 7 3 5 8 2 8 2 4 8\n",
      " 5 8 9 7 1 2 4 5 5 1 8 1 4 4 6 5 8 9 2 3 0 5 1 4 0 5 1 2 9 2 4 1 6 8 0 4 9\n",
      " 0 0 5 9 2 3 5 9 4 4 3 9 2 3 5 6 5 2 7 2 4 2 4 7 2 5 3 7 6 1 0 7 5 4 5 1 6\n",
      " 9 7 1 6 3 3 1 2 2 0 5 0 6 8 3 6 7 7 3 8 1 7 9 3 9 2 8 3 7 4 1 2 3 6 5 0 1\n",
      " 8 6 9 2 1 6 0 2 8 0 8 8 9 1 2 2 1 4 8 1 4 4 5 1 8 7 7 9 7 0 6 9 4 5 6 2 5\n",
      " 7 4 7 2 3 0 8 4 8 0 0 9 7 7 9 8 2 1 6 5 5 1 1 9 7 7 8 6 4 7 5 3 1 6 4 5 7\n",
      " 4 1 8 3 5 1 7 1 1 8 6 4 3 8 3 1 2 8 9 0 9 1 2 3 3 0 3 0 2 0 3 3 8 3 5 7 0\n",
      " 5 9 0 5 9 1 5 1 1 2 6 5 5 4 5 1 6 0 2 2 8 0 7 1 0 8 5 6 3 2 9 4 3 6 0 3 4\n",
      " 1 5 9 3 0 5 0 6 2 7 6 6 6 9 6 7 8 2 0 6 0 8 9 5 3 6 7 4 3 9 7 2 0 4 7 2 2\n",
      " 8 2 7 0 4 0 5 2 8 7 7 9 1 4 0 1 1 2 3 6 2 0 6 6 1 9 4 5 2 7 7 8 9 5 8 3 8\n",
      " 5 6 2 0 9 7 1 8 2 6 9 8 4 9 4 1 3 8 4 0 7 7 3 7 6 6 8 8 2 7 0 4 3 7 7 0 8\n",
      " 4 7 4 0 6 9 8 6 0 1 6 4 5 2 7 3 6 2 2 9 2 7 4 8 7 2 9 5 3 4 8 0 4 4 6 5 6\n",
      " 1 2 2 8 4 5 7 8 0 6 8 9 1 7 7 2 6 3 9 9 1 0 4 2 5 4 4 9 2 6 7 2 8 3 3 2 7\n",
      " 0 4 7 0 7 7 8 1 7 3 7 8 0 1 0 2 9 7 6 2 2 6 9 0 6 8 8 9 6 3 5 0 2 2 5 9 6\n",
      " 4]\n"
     ]
    },
    {
     "data": {
      "text/plain": [
       "0.899"
      ]
     },
     "execution_count": 72,
     "metadata": {},
     "output_type": "execute_result"
    }
   ],
   "source": [
    "dev_predictions = make_predictions(X_dev, W1, b1, W2, b2)\n",
    "get_accuracy(dev_predictions, Y_dev)"
   ]
  },
  {
   "cell_type": "code",
   "execution_count": null,
   "id": "73a68652",
   "metadata": {},
   "outputs": [],
   "source": []
  }
 ],
 "metadata": {
  "kernelspec": {
   "display_name": "Python 3 (ipykernel)",
   "language": "python",
   "name": "python3"
  },
  "language_info": {
   "codemirror_mode": {
    "name": "ipython",
    "version": 3
   },
   "file_extension": ".py",
   "mimetype": "text/x-python",
   "name": "python",
   "nbconvert_exporter": "python",
   "pygments_lexer": "ipython3",
   "version": "3.8.12"
  }
 },
 "nbformat": 4,
 "nbformat_minor": 5
}
